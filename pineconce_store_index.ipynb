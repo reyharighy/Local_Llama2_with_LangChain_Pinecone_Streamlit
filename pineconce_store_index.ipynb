{
 "cells": [
  {
   "cell_type": "markdown",
   "metadata": {},
   "source": [
    "### Split Documents into Chunks"
   ]
  },
  {
   "cell_type": "code",
   "execution_count": 1,
   "metadata": {},
   "outputs": [
    {
     "name": "stderr",
     "output_type": "stream",
     "text": [
      "c:\\Users\\REY007\\Learn\\Local Llama 2 with LangChain, Pinecone, and Streamlit\\llm_env\\lib\\site-packages\\tqdm\\auto.py:21: TqdmWarning: IProgress not found. Please update jupyter and ipywidgets. See https://ipywidgets.readthedocs.io/en/stable/user_install.html\n",
      "  from .autonotebook import tqdm as notebook_tqdm\n"
     ]
    }
   ],
   "source": [
    "from langchain_community.document_loaders import DirectoryLoader\n",
    "from langchain.text_splitter import RecursiveCharacterTextSplitter\n",
    "\n",
    "loader = DirectoryLoader(\n",
    "    path='external_data/'\n",
    ")\n",
    "\n",
    "documents = loader.load()\n",
    "\n",
    "text_splitter = RecursiveCharacterTextSplitter(\n",
    "    chunk_size=2000,\n",
    "    chunk_overlap=200\n",
    ")\n",
    "\n",
    "document_split = text_splitter.split_documents(\n",
    "    documents=documents\n",
    ")"
   ]
  },
  {
   "cell_type": "markdown",
   "metadata": {},
   "source": [
    "### Store the Chunks into Pinecone Index"
   ]
  },
  {
   "cell_type": "code",
   "execution_count": 2,
   "metadata": {},
   "outputs": [
    {
     "data": {
      "text/plain": [
       "<langchain_community.vectorstores.pinecone.Pinecone at 0x29ce9d79640>"
      ]
     },
     "execution_count": 2,
     "metadata": {},
     "output_type": "execute_result"
    }
   ],
   "source": [
    "import os\n",
    "from dotenv import load_dotenv\n",
    "\n",
    "from pinecone import Pinecone\n",
    "from langchain.vectorstores import Pinecone as vec_storer\n",
    "from langchain.embeddings import SentenceTransformerEmbeddings\n",
    "\n",
    "load_dotenv()\n",
    "\n",
    "api_key = os.getenv(\n",
    "    key='PINECONE_API_KEY'\n",
    ")\n",
    "\n",
    "index_name = os.getenv(\n",
    "    key='PINECONE_INDEX_NAME'\n",
    ")\n",
    "\n",
    "Pinecone(\n",
    "    api_key=api_key\n",
    ")\n",
    "\n",
    "embedding_model = SentenceTransformerEmbeddings(\n",
    "    model_name='all-MiniLM-L6-v2'\n",
    ")\n",
    "\n",
    "vec_storer.from_documents(\n",
    "    documents=document_split,\n",
    "    embedding=embedding_model,\n",
    "    index_name=index_name\n",
    ")"
   ]
  },
  {
   "cell_type": "markdown",
   "metadata": {},
   "source": [
    "### Retrieve Relevant Documents from Given Query"
   ]
  },
  {
   "cell_type": "code",
   "execution_count": 3,
   "metadata": {},
   "outputs": [
    {
     "data": {
      "text/plain": [
       "[{'id': 'e042bc35-3a19-41ae-9ccc-95a1bae7efc4',\n",
       "  'metadata': {'source': 'external_data\\\\List of presidential and '\n",
       "                         'vice-presidential candidate v4.pdf',\n",
       "               'text': 'Registration stages for presidential and '\n",
       "                       'vice-presidential candidates for 2024 Indonesia’s '\n",
       "                       'general election ended on October 25th, 2023. The '\n",
       "                       'general election will be held simultaneously throughout '\n",
       "                       'Indonesia on February 14th, 2024. There are three pairs '\n",
       "                       'of presidential and vice-presidential candidates having '\n",
       "                       'registered with Komisi Pemilihan Umum (KPU). Here’s the '\n",
       "                       'list of candidate pairs:\\n'\n",
       "                       '\\n'\n",
       "                       'Candidate pair number 1 are Anies Rasyid Baswedan as '\n",
       "                       'presidential candidate and Abdul Muhaimin Iskandar as '\n",
       "                       'vice presidential candidate. They were promoted by '\n",
       "                       'Partai Nasional Demokrat (Nasdem), Partai Kebangkitan '\n",
       "                       'Bangsa (PKB), and Partai Keadilan Sejahtera (PKS). They '\n",
       "                       'registered with KPU on October 19th, 2023.\\n'\n",
       "                       '\\n'\n",
       "                       'Candidate pair number 2 are Prabowo Subianto as '\n",
       "                       'presidential candidate and Gibran Rakabuming Raka as '\n",
       "                       'vice presidential candidate. They were promoted by '\n",
       "                       'Partai Gerakan Indonesia Raya (Gerindra), Partai '\n",
       "                       'Golongan Karya (Golkar), Partai Demokrat (Demokrat), '\n",
       "                       'Partai Amanat Nasional (PAN), Partai Solidaritas '\n",
       "                       'Indonesia (PSI), Partai Gelombang Rakyat Indonesia '\n",
       "                       '(Gelora), Partai Bulan Bintang (PBB), Partai Rakyat '\n",
       "                       'Adil Makmur (Prima), and Partai Garda Perubahan '\n",
       "                       'Indonesia (Garuda). They registered with KPU on October '\n",
       "                       '19th, 2023.\\n'\n",
       "                       '\\n'\n",
       "                       'Candidates number 3 are Ganjar Pranowo as presidential '\n",
       "                       'candidate and Mahfud MD as vice presidential candidate. '\n",
       "                       'They were promoted by Partai Demokrasi Indonesia '\n",
       "                       'Perjuangan (PDIP), Partai Persatuan Pembangunan (PPP), '\n",
       "                       'Partai Persatuan Indonesia (Perindo), and Partai Hati '\n",
       "                       'Nurani Rakyat (Hanura). They registered with KPU on '\n",
       "                       'October 25th, 2023.'},\n",
       "  'score': 0.802729845,\n",
       "  'values': []}]"
      ]
     },
     "execution_count": 3,
     "metadata": {},
     "output_type": "execute_result"
    }
   ],
   "source": [
    "from sentence_transformers import SentenceTransformer\n",
    "\n",
    "sentence_transformer = SentenceTransformer(\n",
    "    model_name_or_path='all-MiniLM-L6-v2'\n",
    ")\n",
    "\n",
    "input_embedded = sentence_transformer.encode(\n",
    "    sentences=\"Who are presidential and vice-presidential candidates for Indonesia's general election?\"\n",
    ").tolist()\n",
    "\n",
    "pinecode_index = Pinecone(\n",
    "    api_key=api_key\n",
    ").Index(\n",
    "    name=index_name\n",
    ")\n",
    "\n",
    "results = pinecode_index.query(\n",
    "    vector=input_embedded,\n",
    "    top_k=10,\n",
    "    include_metadata=True\n",
    ")\n",
    "\n",
    "results['matches']"
   ]
  }
 ],
 "metadata": {
  "kernelspec": {
   "display_name": "Python 3",
   "language": "python",
   "name": "python3"
  },
  "language_info": {
   "codemirror_mode": {
    "name": "ipython",
    "version": 3
   },
   "file_extension": ".py",
   "mimetype": "text/x-python",
   "name": "python",
   "nbconvert_exporter": "python",
   "pygments_lexer": "ipython3",
   "version": "3.9.13"
  }
 },
 "nbformat": 4,
 "nbformat_minor": 2
}
